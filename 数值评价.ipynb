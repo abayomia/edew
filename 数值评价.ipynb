{
 "cells": [
  {
   "cell_type": "code",
   "execution_count": 1,
   "metadata": {},
   "outputs": [],
   "source": [
    "import scipy.io as sio\n",
    "import numpy as np\n",
    "import matplotlib.pyplot as plt\n",
    "from skimage.metrics import structural_similarity as compare_ssim\n",
    "from skimage.metrics import peak_signal_noise_ratio as compare_psnr"
   ]
  },
  {
   "cell_type": "code",
   "execution_count": 2,
   "metadata": {},
   "outputs": [],
   "source": [
    "def calculate_RQE(reference_image, test_image):\n",
    "    num_bands, height, width = reference_image.shape\n",
    "    total_squared_difference = 0\n",
    "    reference_squared_sum = 0\n",
    "    for band in range(num_bands):\n",
    "        reference_spectrum = reference_image[band].flatten()\n",
    "        test_spectrum = test_image[band].flatten()\n",
    "        squared_difference = np.square(reference_spectrum - test_spectrum)\n",
    "        total_squared_difference += np.sum(squared_difference)\n",
    "        reference_squared_sum += np.sum(np.square(reference_spectrum))\n",
    "    RQE = np.sqrt(total_squared_difference / reference_squared_sum)\n",
    "    return RQE\n",
    "\n",
    "FLT_MIN = float(np.finfo(np.float32).eps)\n",
    "def Cal_SAM(im_true, im_test):\n",
    "\n",
    "    a = sum(im_true * im_test, 2) + FLT_MIN\n",
    "    b = pow(sum(im_true * im_true, 2) + FLT_MIN, 1/2)\n",
    "    c = pow(sum(im_test * im_test, 2) + FLT_MIN, 1/2)\n",
    "    d = np.arccos(a/(b * c))\n",
    "\n",
    "    return np.mean(d)"
   ]
  },
  {
   "cell_type": "code",
   "execution_count": 73,
   "metadata": {},
   "outputs": [],
   "source": [
    "label = sio.loadmat('C:/Mymicrosoft/普通文件/PnP-CASSI__vertical/Dataset/test (69).mat')['img']\n",
    "# data = sio.loadmat('C:/Mymicrosoft/自监督结果集合/kaist归一化/SSHC/1/33.14kaist1_4282_mine.mat')['pred']\n",
    "# data = data[7,:,:,:]\n",
    "data = sio.loadmat('E:/PIP-DIP结果/PnP-DIP/PnP_DIP_simu_data/Result/result09/scene09_42_33.31.mat')['x_rec']"
   ]
  },
  {
   "cell_type": "code",
   "execution_count": 74,
   "metadata": {},
   "outputs": [],
   "source": [
    "# plt.imshow(label[:,:,30], cmap=plt.cm.gray, vmin=0, vmax=1)\n",
    "# plt.axis('off')"
   ]
  },
  {
   "cell_type": "code",
   "execution_count": 75,
   "metadata": {},
   "outputs": [],
   "source": [
    "# data = (data - np.min(data)) / (np.max(data) - np.min(data))\n",
    "# plt.imshow(data[:,:,30])"
   ]
  },
  {
   "cell_type": "code",
   "execution_count": 76,
   "metadata": {},
   "outputs": [],
   "source": [
    "# data = data.squeeze().transpose(1, 0, 2)\n",
    "# print(data.shape)\n",
    "# def shift_back(inputs,step):\n",
    "#     [row,col,nC] = inputs.shape\n",
    "#     for i in range(nC):\n",
    "#         inputs[:,:,i] = np.roll(inputs[:,:,i],(-1)*step*i,axis=0)\n",
    "#     output = inputs[0:row-step*(nC-1),:,:]\n",
    "#     return output\n",
    "# data = shift_back(data,1)\n",
    "\n",
    "# print(data.shape)\n",
    "# plt.imshow(data[:,:,30], cmap=plt.cm.gray, vmin=0, vmax=1)\n",
    "# plt.axis('off')\n",
    "# sio.savemat('test (29)_DSSP.mat',{'img':data})"
   ]
  },
  {
   "cell_type": "code",
   "execution_count": 77,
   "metadata": {},
   "outputs": [],
   "source": [
    "data[data<=0]=0\n",
    "# data = data / np.max(data)\n",
    "data[data>=1]=1"
   ]
  },
  {
   "cell_type": "code",
   "execution_count": 78,
   "metadata": {
    "scrolled": true
   },
   "outputs": [
    {
     "name": "stderr",
     "output_type": "stream",
     "text": [
      "<ipython-input-78-680d46d1ee50>:1: UserWarning: Inputs have mismatched dtype.  Setting data_range based on im_true.\n",
      "  psnr = compare_psnr(data, label)\n",
      "<ipython-input-78-680d46d1ee50>:2: UserWarning: Inputs have mismatched dtype.  Setting data_range based on im1.dtype.\n",
      "  ssim = compare_ssim(data, label)\n"
     ]
    },
    {
     "name": "stdout",
     "output_type": "stream",
     "text": [
      "33.12070720070992\n",
      "0.9559986448393019\n"
     ]
    }
   ],
   "source": [
    "psnr = compare_psnr(data, label)\n",
    "ssim = compare_ssim(data, label)\n",
    "print(psnr)\n",
    "print(ssim)"
   ]
  },
  {
   "cell_type": "code",
   "execution_count": 79,
   "metadata": {
    "scrolled": true
   },
   "outputs": [
    {
     "name": "stdout",
     "output_type": "stream",
     "text": [
      "0.09477790049366973\n",
      "0.09092705271337516\n"
     ]
    }
   ],
   "source": [
    "sam = Cal_SAM(data, label)\n",
    "rqe = calculate_RQE(data, label)\n",
    "print(sam)\n",
    "print(rqe)"
   ]
  },
  {
   "cell_type": "code",
   "execution_count": null,
   "metadata": {},
   "outputs": [],
   "source": []
  },
  {
   "cell_type": "code",
   "execution_count": null,
   "metadata": {},
   "outputs": [],
   "source": []
  },
  {
   "cell_type": "code",
   "execution_count": null,
   "metadata": {},
   "outputs": [],
   "source": []
  },
  {
   "cell_type": "code",
   "execution_count": null,
   "metadata": {},
   "outputs": [],
   "source": []
  },
  {
   "cell_type": "code",
   "execution_count": null,
   "metadata": {},
   "outputs": [],
   "source": []
  },
  {
   "cell_type": "code",
   "execution_count": null,
   "metadata": {},
   "outputs": [],
   "source": []
  },
  {
   "cell_type": "code",
   "execution_count": null,
   "metadata": {},
   "outputs": [],
   "source": []
  },
  {
   "cell_type": "code",
   "execution_count": null,
   "metadata": {},
   "outputs": [],
   "source": []
  },
  {
   "cell_type": "code",
   "execution_count": null,
   "metadata": {},
   "outputs": [],
   "source": []
  },
  {
   "cell_type": "code",
   "execution_count": null,
   "metadata": {},
   "outputs": [],
   "source": []
  }
 ],
 "metadata": {
  "kernelspec": {
   "display_name": "Python 3",
   "language": "python",
   "name": "python3"
  },
  "language_info": {
   "codemirror_mode": {
    "name": "ipython",
    "version": 3
   },
   "file_extension": ".py",
   "mimetype": "text/x-python",
   "name": "python",
   "nbconvert_exporter": "python",
   "pygments_lexer": "ipython3",
   "version": "3.8.5"
  }
 },
 "nbformat": 4,
 "nbformat_minor": 4
}
